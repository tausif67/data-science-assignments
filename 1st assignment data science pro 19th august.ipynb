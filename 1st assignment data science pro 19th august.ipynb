{
 "cells": [
  {
   "cell_type": "code",
   "execution_count": null,
   "id": "46dbf894-ec73-45fd-806f-7e495d03d94e",
   "metadata": {},
   "outputs": [],
   "source": [
    "1. Declare two variables, `x` and `y`, and assign them integer values. Swap the\n",
    "values of these variables without using any temporary variable."
   ]
  },
  {
   "cell_type": "code",
   "execution_count": 1,
   "id": "d150488d-c0d7-4056-b2d9-49ee26997920",
   "metadata": {},
   "outputs": [
    {
     "name": "stdout",
     "output_type": "stream",
     "text": [
      "Before swap x: 5 and y: 10\n",
      "After swap x: 10 and y: 5\n"
     ]
    }
   ],
   "source": [
    "# Step 1: Declare and initialize variables\n",
    "x = 5\n",
    "y = 10\n",
    "\n",
    "# Step 2: Creating function to swap the variables\n",
    "def swap_variables(x,y):\n",
    "  print(f\"Before swap x: {x} and y: {y}\")\n",
    "  x,y = y, x\n",
    "  print(f\"After swap x: {x} and y: {y}\")\n",
    "\n",
    "swap_variables(x,y)"
   ]
  },
  {
   "cell_type": "code",
   "execution_count": null,
   "id": "a89d1a8f-cd14-42fc-be80-d5d3931ee911",
   "metadata": {},
   "outputs": [],
   "source": [
    "2. Create a program that calculates the area of a rectangle. Take the length and\n",
    "width as inputs from the user and store them in variables. Calculate and\n",
    "display the area."
   ]
  },
  {
   "cell_type": "code",
   "execution_count": 2,
   "id": "7e58c4de-0a7a-49fb-a08a-14998a275c8f",
   "metadata": {},
   "outputs": [
    {
     "name": "stdin",
     "output_type": "stream",
     "text": [
      "Enter the length of the rectangle:  30\n",
      "Enter the width of the rectangle:  45\n"
     ]
    },
    {
     "name": "stdout",
     "output_type": "stream",
     "text": [
      "The area of the rectangle is: 1350.0\n"
     ]
    }
   ],
   "source": [
    "# Step 1: Get input from the user for length and width\n",
    "length = float(input(\"Enter the length of the rectangle: \")) # Taking user input for length and converting it to a floating-point number\n",
    "width = float(input(\"Enter the width of the rectangle: \"))   # Taking user input for width and converting it to a floating-point number\n",
    "\n",
    "# Step 2: Calculate the area of the rectangle using the formula: area = length * width\n",
    "area = length * width # Calculating the area by multiplying length and width\n",
    "\n",
    "# Step 3: Display the calculated area to the user\n",
    "print(\"The area of the rectangle is:\", area) # Printing the calculated area"
   ]
  },
  {
   "cell_type": "code",
   "execution_count": null,
   "id": "5d0948ae-a69c-4367-a183-ce75122a8dd1",
   "metadata": {},
   "outputs": [],
   "source": [
    "3. Write a Python program that converts temperatures from Celsius to\n",
    "Fahrenheit. Take the temperature in Celsius as input, store it in a variable,\n",
    "convert it to Fahrenheit, and display the result."
   ]
  },
  {
   "cell_type": "code",
   "execution_count": 3,
   "id": "4f655d08-dce6-424d-af2f-1bef81002d1e",
   "metadata": {},
   "outputs": [
    {
     "name": "stdin",
     "output_type": "stream",
     "text": [
      "Enter temperature in Celsius:  30\n"
     ]
    },
    {
     "name": "stdout",
     "output_type": "stream",
     "text": [
      "30.0 Celsius is equal to 86.00 Fahrenheit\n"
     ]
    }
   ],
   "source": [
    "# Step 1: Get the temperature in Celsius from the user\n",
    "celsius_temperature = float(input(\"Enter temperature in Celsius: \"))\n",
    "\n",
    "# Step 2: Convert Celsius to Fahrenheit using the formula: (C * 9/5) + 32\n",
    "fahrenheit_temperature = (celsius_temperature * 9/5) + 32\n",
    "\n",
    "# Step 3: Display the converted temperature in Fahrenheit\n",
    "print(f\"{celsius_temperature} Celsius is equal to {fahrenheit_temperature:.2f} Fahrenheit\")"
   ]
  },
  {
   "cell_type": "code",
   "execution_count": null,
   "id": "61840276-c548-457b-afca-f20bbcfba24e",
   "metadata": {},
   "outputs": [],
   "source": [
    "String Based Questions"
   ]
  },
  {
   "cell_type": "code",
   "execution_count": null,
   "id": "509985e8-ac45-41bb-8e09-3d4969395323",
   "metadata": {},
   "outputs": [],
   "source": [
    "1. Write a Python program that takes a string as input and prints the length of\n",
    "the string."
   ]
  },
  {
   "cell_type": "code",
   "execution_count": 4,
   "id": "e3197c17-74aa-45fe-8306-eef77e6bcbca",
   "metadata": {},
   "outputs": [
    {
     "name": "stdin",
     "output_type": "stream",
     "text": [
      "Enter a string:  tausif\n"
     ]
    },
    {
     "name": "stdout",
     "output_type": "stream",
     "text": [
      "The length of the input string is: 6\n"
     ]
    }
   ],
   "source": [
    "# Step 1: Get input from the user\n",
    "input_string = input(\"Enter a string: \")\n",
    "\n",
    "# Step 2: Calculate the length of the input string using the built-in len() function\n",
    "string_length = len(input_string)\n",
    "\n",
    "# Step 3: Print the length of the string\n",
    "print(\"The length of the input string is:\", string_length)"
   ]
  },
  {
   "cell_type": "code",
   "execution_count": null,
   "id": "ec6fa097-0648-45fe-ae48-e5088abdc35c",
   "metadata": {},
   "outputs": [],
   "source": [
    "2. Create a program that takes a sentence from the user and counts the number\n",
    "of vowels (a, e, i, o, u) in the string."
   ]
  },
  {
   "cell_type": "code",
   "execution_count": 1,
   "id": "b2ccef34-7ed6-44ba-ae4e-3eda25724ffe",
   "metadata": {},
   "outputs": [
    {
     "name": "stdin",
     "output_type": "stream",
     "text": [
      "Enter a sentence:  hello this is tausif\n"
     ]
    },
    {
     "name": "stdout",
     "output_type": "stream",
     "text": [
      "Number of vowels: 7\n"
     ]
    }
   ],
   "source": [
    "# Step 1: Get input from the user\n",
    "sentence = input(\"Enter a sentence: \")\n",
    "\n",
    "# Step 2: Initialize a variable to count the vowels\n",
    "vowel_count = 0\n",
    "\n",
    "# Step 3: Iterate through each character in the sentence\n",
    "for char in sentence:\n",
    "    # Step 4: Convert the character to lowercase to handle both uppercase and lowercase vowels\n",
    "    char_lower = char.lower()\n",
    "\n",
    "    # Step 5: Check if the character is a vowel (a, e, i, o, u)\n",
    "    if char_lower in \"aeiou\":\n",
    "        # Step 6: If the character is a vowel, increment the vowel_count variable\n",
    "        vowel_count += 1\n",
    "\n",
    "# Step 7: Display the result\n",
    "print(\"Number of vowels:\", vowel_count)"
   ]
  },
  {
   "cell_type": "code",
   "execution_count": null,
   "id": "333904de-38db-4ba7-90f0-1d19bd81ab6a",
   "metadata": {},
   "outputs": [],
   "source": [
    "3. Given a string, reverse the order of characters using string slicing and print\n",
    "the reversed string."
   ]
  },
  {
   "cell_type": "code",
   "execution_count": 2,
   "id": "988f8a8a-8e06-4e5c-b2b7-6bb07da74bad",
   "metadata": {},
   "outputs": [
    {
     "name": "stdin",
     "output_type": "stream",
     "text": [
      "Enter a string:  Science\n"
     ]
    },
    {
     "name": "stdout",
     "output_type": "stream",
     "text": [
      "Reversed string: ecneicS\n"
     ]
    }
   ],
   "source": [
    "# Step 1: Get the input string from the user\n",
    "input_string = input(\"Enter a string: \")\n",
    "\n",
    "# Step 2: Use string slicing to reverse the string\n",
    "# Syntax: [start:end:step]\n",
    "# Here, we start from the end of the string, move backward with step -1, and stop at the beginning.\n",
    "reversed_string = input_string[::-1]\n",
    "\n",
    "# Step 3: Print the reversed string\n",
    "print(\"Reversed string:\", reversed_string)"
   ]
  },
  {
   "cell_type": "code",
   "execution_count": null,
   "id": "cf6566e0-d086-404d-8309-2d4a3bfd2f5c",
   "metadata": {},
   "outputs": [],
   "source": [
    "4. Write a program that takes a string as input and checks if it is a palindrome\n",
    "(reads the same forwards and backwards)."
   ]
  },
  {
   "cell_type": "code",
   "execution_count": 3,
   "id": "baa0b3d8-76f9-49a8-b0c0-92903a6236b6",
   "metadata": {},
   "outputs": [
    {
     "name": "stdin",
     "output_type": "stream",
     "text": [
      "Enter a string:  Hello\n"
     ]
    },
    {
     "name": "stdout",
     "output_type": "stream",
     "text": [
      "The input string is not a palindrome.\n"
     ]
    }
   ],
   "source": [
    "# Step 1: Get input from the user\n",
    "input_string = input(\"Enter a string: \")\n",
    "\n",
    "# Step 2: Remove spaces and convert the input string to lowercase\n",
    "cleaned_string = input_string.replace(\" \", \"\").lower()\n",
    "\n",
    "# Step 3: Reverse the cleaned string using slicing\n",
    "reversed_string = cleaned_string[::-1]\n",
    "\n",
    "# Step 4: Compare the cleaned string with its reverse to check for palindrome\n",
    "if cleaned_string == reversed_string:\n",
    "    print(\"The input string is a palindrome.\")\n",
    "else:\n",
    "    print(\"The input string is not a palindrome.\")"
   ]
  },
  {
   "cell_type": "code",
   "execution_count": null,
   "id": "ae6ff337-6dfe-4f13-b632-2a2cb81082d2",
   "metadata": {},
   "outputs": [],
   "source": [
    "5. Create a program that takes a string as input and removes all the spaces from\n",
    "it. Print the modified string without spaces."
   ]
  },
  {
   "cell_type": "code",
   "execution_count": 4,
   "id": "b095e154-b3dc-4048-9be2-214bce694bae",
   "metadata": {},
   "outputs": [
    {
     "name": "stdin",
     "output_type": "stream",
     "text": [
      "Enter a string:  Hello\n"
     ]
    },
    {
     "name": "stdout",
     "output_type": "stream",
     "text": [
      "Modified string without spaces: Hello\n"
     ]
    }
   ],
   "source": [
    "# Step 1: Take input from the user\n",
    "input_string = input(\"Enter a string: \")\n",
    "\n",
    "# Step 2: Initialize an empty string to store the modified string without spaces\n",
    "modified_string = \"\"\n",
    "\n",
    "# Step 3: Iterate through each character in the input string\n",
    "for char in input_string:\n",
    "    # Step 4: Check if the character is not a space\n",
    "    if char != \" \":\n",
    "        # Step 5: If not a space, append the character to the modified string\n",
    "        modified_string += char\n",
    "\n",
    "# Step 6: Print the modified string without spaces\n",
    "print(\"Modified string without spaces:\", modified_string)"
   ]
  },
  {
   "cell_type": "code",
   "execution_count": null,
   "id": "66a0c895-a0ba-4d69-ba1f-8c0f5cd4f9a6",
   "metadata": {},
   "outputs": [],
   "source": []
  }
 ],
 "metadata": {
  "kernelspec": {
   "display_name": "Python 3 (ipykernel)",
   "language": "python",
   "name": "python3"
  },
  "language_info": {
   "codemirror_mode": {
    "name": "ipython",
    "version": 3
   },
   "file_extension": ".py",
   "mimetype": "text/x-python",
   "name": "python",
   "nbconvert_exporter": "python",
   "pygments_lexer": "ipython3",
   "version": "3.10.8"
  }
 },
 "nbformat": 4,
 "nbformat_minor": 5
}
